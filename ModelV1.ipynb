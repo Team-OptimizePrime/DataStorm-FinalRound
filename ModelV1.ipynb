{
 "cells": [
  {
   "cell_type": "code",
   "execution_count": 84,
   "metadata": {},
   "outputs": [],
   "source": [
    "import numpy as np\n",
    "import pandas as pd"
   ]
  },
  {
   "cell_type": "code",
   "execution_count": 85,
   "metadata": {},
   "outputs": [],
   "source": [
    "customer_data_2017 = pd.read_csv(\"final2017.csv\")\n",
    "customer_data_2018 = pd.read_csv(\"final2018.csv\")\n",
    "customer_data_2019 = pd.read_csv(\"final2019.csv\")"
   ]
  },
  {
   "cell_type": "code",
   "execution_count": 86,
   "metadata": {},
   "outputs": [
    {
     "data": {
      "text/html": [
       "<div>\n",
       "<style scoped>\n",
       "    .dataframe tbody tr th:only-of-type {\n",
       "        vertical-align: middle;\n",
       "    }\n",
       "\n",
       "    .dataframe tbody tr th {\n",
       "        vertical-align: top;\n",
       "    }\n",
       "\n",
       "    .dataframe thead th {\n",
       "        text-align: right;\n",
       "    }\n",
       "</style>\n",
       "<table border=\"1\" class=\"dataframe\">\n",
       "  <thead>\n",
       "    <tr style=\"text-align: right;\">\n",
       "      <th></th>\n",
       "      <th>customer_id</th>\n",
       "      <th>gender</th>\n",
       "      <th>birth_year</th>\n",
       "      <th>jan_1</th>\n",
       "      <th>jan_2</th>\n",
       "      <th>jan_3</th>\n",
       "      <th>jan_4</th>\n",
       "      <th>feb_1</th>\n",
       "      <th>feb_2</th>\n",
       "      <th>feb_3</th>\n",
       "      <th>...</th>\n",
       "      <th>churn_2</th>\n",
       "      <th>churn_3</th>\n",
       "      <th>churn_4</th>\n",
       "      <th>churn_5</th>\n",
       "      <th>churn_6</th>\n",
       "      <th>churn_7</th>\n",
       "      <th>churn_8</th>\n",
       "      <th>churn_9</th>\n",
       "      <th>churn_10</th>\n",
       "      <th>dec_churn</th>\n",
       "    </tr>\n",
       "  </thead>\n",
       "  <tbody>\n",
       "    <tr>\n",
       "      <td>0</td>\n",
       "      <td>169212</td>\n",
       "      <td>female</td>\n",
       "      <td>1980.0</td>\n",
       "      <td>0.00</td>\n",
       "      <td>0.0</td>\n",
       "      <td>0.00</td>\n",
       "      <td>0.0</td>\n",
       "      <td>100.00</td>\n",
       "      <td>0.0</td>\n",
       "      <td>7895.58</td>\n",
       "      <td>...</td>\n",
       "      <td>1.0</td>\n",
       "      <td>1.0</td>\n",
       "      <td>0.0</td>\n",
       "      <td>0.0</td>\n",
       "      <td>0.0</td>\n",
       "      <td>0.0</td>\n",
       "      <td>0.0</td>\n",
       "      <td>0.0</td>\n",
       "      <td>0.0</td>\n",
       "      <td>0.0</td>\n",
       "    </tr>\n",
       "    <tr>\n",
       "      <td>1</td>\n",
       "      <td>174861</td>\n",
       "      <td>female</td>\n",
       "      <td>1969.0</td>\n",
       "      <td>2160.31</td>\n",
       "      <td>2.0</td>\n",
       "      <td>8731.09</td>\n",
       "      <td>6.0</td>\n",
       "      <td>100.00</td>\n",
       "      <td>0.0</td>\n",
       "      <td>6155.50</td>\n",
       "      <td>...</td>\n",
       "      <td>0.0</td>\n",
       "      <td>0.0</td>\n",
       "      <td>0.0</td>\n",
       "      <td>0.0</td>\n",
       "      <td>0.0</td>\n",
       "      <td>0.0</td>\n",
       "      <td>0.0</td>\n",
       "      <td>0.0</td>\n",
       "      <td>0.0</td>\n",
       "      <td>0.0</td>\n",
       "    </tr>\n",
       "    <tr>\n",
       "      <td>2</td>\n",
       "      <td>198521</td>\n",
       "      <td>male</td>\n",
       "      <td>1978.0</td>\n",
       "      <td>361.00</td>\n",
       "      <td>1.0</td>\n",
       "      <td>1483.00</td>\n",
       "      <td>3.0</td>\n",
       "      <td>1682.50</td>\n",
       "      <td>1.0</td>\n",
       "      <td>2824.00</td>\n",
       "      <td>...</td>\n",
       "      <td>0.0</td>\n",
       "      <td>0.0</td>\n",
       "      <td>0.0</td>\n",
       "      <td>0.0</td>\n",
       "      <td>0.0</td>\n",
       "      <td>0.0</td>\n",
       "      <td>0.0</td>\n",
       "      <td>0.0</td>\n",
       "      <td>0.0</td>\n",
       "      <td>0.0</td>\n",
       "    </tr>\n",
       "    <tr>\n",
       "      <td>3</td>\n",
       "      <td>206454</td>\n",
       "      <td>male</td>\n",
       "      <td>1965.0</td>\n",
       "      <td>4954.62</td>\n",
       "      <td>1.0</td>\n",
       "      <td>13716.61</td>\n",
       "      <td>7.0</td>\n",
       "      <td>3630.22</td>\n",
       "      <td>2.0</td>\n",
       "      <td>12095.13</td>\n",
       "      <td>...</td>\n",
       "      <td>0.0</td>\n",
       "      <td>0.0</td>\n",
       "      <td>0.0</td>\n",
       "      <td>0.0</td>\n",
       "      <td>0.0</td>\n",
       "      <td>0.0</td>\n",
       "      <td>0.0</td>\n",
       "      <td>0.0</td>\n",
       "      <td>0.0</td>\n",
       "      <td>0.0</td>\n",
       "    </tr>\n",
       "    <tr>\n",
       "      <td>4</td>\n",
       "      <td>218494</td>\n",
       "      <td>male</td>\n",
       "      <td>1959.0</td>\n",
       "      <td>0.00</td>\n",
       "      <td>0.0</td>\n",
       "      <td>0.00</td>\n",
       "      <td>0.0</td>\n",
       "      <td>0.00</td>\n",
       "      <td>0.0</td>\n",
       "      <td>0.00</td>\n",
       "      <td>...</td>\n",
       "      <td>0.0</td>\n",
       "      <td>1.0</td>\n",
       "      <td>1.0</td>\n",
       "      <td>1.0</td>\n",
       "      <td>1.0</td>\n",
       "      <td>1.0</td>\n",
       "      <td>1.0</td>\n",
       "      <td>1.0</td>\n",
       "      <td>1.0</td>\n",
       "      <td>1.0</td>\n",
       "    </tr>\n",
       "  </tbody>\n",
       "</table>\n",
       "<p>5 rows × 62 columns</p>\n",
       "</div>"
      ],
      "text/plain": [
       "   customer_id  gender  birth_year    jan_1  jan_2     jan_3  jan_4    feb_1  \\\n",
       "0       169212  female      1980.0     0.00    0.0      0.00    0.0   100.00   \n",
       "1       174861  female      1969.0  2160.31    2.0   8731.09    6.0   100.00   \n",
       "2       198521    male      1978.0   361.00    1.0   1483.00    3.0  1682.50   \n",
       "3       206454    male      1965.0  4954.62    1.0  13716.61    7.0  3630.22   \n",
       "4       218494    male      1959.0     0.00    0.0      0.00    0.0     0.00   \n",
       "\n",
       "   feb_2     feb_3  ...  churn_2  churn_3  churn_4  churn_5  churn_6  churn_7  \\\n",
       "0    0.0   7895.58  ...      1.0      1.0      0.0      0.0      0.0      0.0   \n",
       "1    0.0   6155.50  ...      0.0      0.0      0.0      0.0      0.0      0.0   \n",
       "2    1.0   2824.00  ...      0.0      0.0      0.0      0.0      0.0      0.0   \n",
       "3    2.0  12095.13  ...      0.0      0.0      0.0      0.0      0.0      0.0   \n",
       "4    0.0      0.00  ...      0.0      1.0      1.0      1.0      1.0      1.0   \n",
       "\n",
       "   churn_8  churn_9  churn_10  dec_churn  \n",
       "0      0.0      0.0       0.0        0.0  \n",
       "1      0.0      0.0       0.0        0.0  \n",
       "2      0.0      0.0       0.0        0.0  \n",
       "3      0.0      0.0       0.0        0.0  \n",
       "4      1.0      1.0       1.0        1.0  \n",
       "\n",
       "[5 rows x 62 columns]"
      ]
     },
     "execution_count": 86,
     "metadata": {},
     "output_type": "execute_result"
    }
   ],
   "source": [
    "customer_data_2017.head()"
   ]
  },
  {
   "cell_type": "code",
   "execution_count": 87,
   "metadata": {},
   "outputs": [],
   "source": [
    "customer_data_2017 = customer_data_2017.drop('customer_id', 1)\n",
    "customer_data_2018 = customer_data_2018.drop('customer_id', 1)"
   ]
  },
  {
   "cell_type": "code",
   "execution_count": 88,
   "metadata": {},
   "outputs": [
    {
     "data": {
      "text/html": [
       "<div>\n",
       "<style scoped>\n",
       "    .dataframe tbody tr th:only-of-type {\n",
       "        vertical-align: middle;\n",
       "    }\n",
       "\n",
       "    .dataframe tbody tr th {\n",
       "        vertical-align: top;\n",
       "    }\n",
       "\n",
       "    .dataframe thead th {\n",
       "        text-align: right;\n",
       "    }\n",
       "</style>\n",
       "<table border=\"1\" class=\"dataframe\">\n",
       "  <thead>\n",
       "    <tr style=\"text-align: right;\">\n",
       "      <th></th>\n",
       "      <th>gender</th>\n",
       "      <th>birth_year</th>\n",
       "      <th>jan_1</th>\n",
       "      <th>jan_2</th>\n",
       "      <th>jan_3</th>\n",
       "      <th>jan_4</th>\n",
       "      <th>feb_1</th>\n",
       "      <th>feb_2</th>\n",
       "      <th>feb_3</th>\n",
       "      <th>feb_4</th>\n",
       "      <th>...</th>\n",
       "      <th>churn_2</th>\n",
       "      <th>churn_3</th>\n",
       "      <th>churn_4</th>\n",
       "      <th>churn_5</th>\n",
       "      <th>churn_6</th>\n",
       "      <th>churn_7</th>\n",
       "      <th>churn_8</th>\n",
       "      <th>churn_9</th>\n",
       "      <th>churn_10</th>\n",
       "      <th>dec_churn</th>\n",
       "    </tr>\n",
       "  </thead>\n",
       "  <tbody>\n",
       "    <tr>\n",
       "      <td>0</td>\n",
       "      <td>female</td>\n",
       "      <td>1980.0</td>\n",
       "      <td>0.00</td>\n",
       "      <td>0.0</td>\n",
       "      <td>0.00</td>\n",
       "      <td>0.0</td>\n",
       "      <td>100.00</td>\n",
       "      <td>0.0</td>\n",
       "      <td>7895.58</td>\n",
       "      <td>3.0</td>\n",
       "      <td>...</td>\n",
       "      <td>1.0</td>\n",
       "      <td>1.0</td>\n",
       "      <td>0.0</td>\n",
       "      <td>0.0</td>\n",
       "      <td>0.0</td>\n",
       "      <td>0.0</td>\n",
       "      <td>0.0</td>\n",
       "      <td>0.0</td>\n",
       "      <td>0.0</td>\n",
       "      <td>0.0</td>\n",
       "    </tr>\n",
       "    <tr>\n",
       "      <td>1</td>\n",
       "      <td>female</td>\n",
       "      <td>1969.0</td>\n",
       "      <td>2160.31</td>\n",
       "      <td>2.0</td>\n",
       "      <td>8731.09</td>\n",
       "      <td>6.0</td>\n",
       "      <td>100.00</td>\n",
       "      <td>0.0</td>\n",
       "      <td>6155.50</td>\n",
       "      <td>3.0</td>\n",
       "      <td>...</td>\n",
       "      <td>0.0</td>\n",
       "      <td>0.0</td>\n",
       "      <td>0.0</td>\n",
       "      <td>0.0</td>\n",
       "      <td>0.0</td>\n",
       "      <td>0.0</td>\n",
       "      <td>0.0</td>\n",
       "      <td>0.0</td>\n",
       "      <td>0.0</td>\n",
       "      <td>0.0</td>\n",
       "    </tr>\n",
       "    <tr>\n",
       "      <td>2</td>\n",
       "      <td>male</td>\n",
       "      <td>1978.0</td>\n",
       "      <td>361.00</td>\n",
       "      <td>1.0</td>\n",
       "      <td>1483.00</td>\n",
       "      <td>3.0</td>\n",
       "      <td>1682.50</td>\n",
       "      <td>1.0</td>\n",
       "      <td>2824.00</td>\n",
       "      <td>3.0</td>\n",
       "      <td>...</td>\n",
       "      <td>0.0</td>\n",
       "      <td>0.0</td>\n",
       "      <td>0.0</td>\n",
       "      <td>0.0</td>\n",
       "      <td>0.0</td>\n",
       "      <td>0.0</td>\n",
       "      <td>0.0</td>\n",
       "      <td>0.0</td>\n",
       "      <td>0.0</td>\n",
       "      <td>0.0</td>\n",
       "    </tr>\n",
       "    <tr>\n",
       "      <td>3</td>\n",
       "      <td>male</td>\n",
       "      <td>1965.0</td>\n",
       "      <td>4954.62</td>\n",
       "      <td>1.0</td>\n",
       "      <td>13716.61</td>\n",
       "      <td>7.0</td>\n",
       "      <td>3630.22</td>\n",
       "      <td>2.0</td>\n",
       "      <td>12095.13</td>\n",
       "      <td>6.0</td>\n",
       "      <td>...</td>\n",
       "      <td>0.0</td>\n",
       "      <td>0.0</td>\n",
       "      <td>0.0</td>\n",
       "      <td>0.0</td>\n",
       "      <td>0.0</td>\n",
       "      <td>0.0</td>\n",
       "      <td>0.0</td>\n",
       "      <td>0.0</td>\n",
       "      <td>0.0</td>\n",
       "      <td>0.0</td>\n",
       "    </tr>\n",
       "    <tr>\n",
       "      <td>4</td>\n",
       "      <td>male</td>\n",
       "      <td>1959.0</td>\n",
       "      <td>0.00</td>\n",
       "      <td>0.0</td>\n",
       "      <td>0.00</td>\n",
       "      <td>0.0</td>\n",
       "      <td>0.00</td>\n",
       "      <td>0.0</td>\n",
       "      <td>0.00</td>\n",
       "      <td>0.0</td>\n",
       "      <td>...</td>\n",
       "      <td>0.0</td>\n",
       "      <td>1.0</td>\n",
       "      <td>1.0</td>\n",
       "      <td>1.0</td>\n",
       "      <td>1.0</td>\n",
       "      <td>1.0</td>\n",
       "      <td>1.0</td>\n",
       "      <td>1.0</td>\n",
       "      <td>1.0</td>\n",
       "      <td>1.0</td>\n",
       "    </tr>\n",
       "  </tbody>\n",
       "</table>\n",
       "<p>5 rows × 61 columns</p>\n",
       "</div>"
      ],
      "text/plain": [
       "   gender  birth_year    jan_1  jan_2     jan_3  jan_4    feb_1  feb_2  \\\n",
       "0  female      1980.0     0.00    0.0      0.00    0.0   100.00    0.0   \n",
       "1  female      1969.0  2160.31    2.0   8731.09    6.0   100.00    0.0   \n",
       "2    male      1978.0   361.00    1.0   1483.00    3.0  1682.50    1.0   \n",
       "3    male      1965.0  4954.62    1.0  13716.61    7.0  3630.22    2.0   \n",
       "4    male      1959.0     0.00    0.0      0.00    0.0     0.00    0.0   \n",
       "\n",
       "      feb_3  feb_4  ...  churn_2  churn_3  churn_4  churn_5  churn_6  churn_7  \\\n",
       "0   7895.58    3.0  ...      1.0      1.0      0.0      0.0      0.0      0.0   \n",
       "1   6155.50    3.0  ...      0.0      0.0      0.0      0.0      0.0      0.0   \n",
       "2   2824.00    3.0  ...      0.0      0.0      0.0      0.0      0.0      0.0   \n",
       "3  12095.13    6.0  ...      0.0      0.0      0.0      0.0      0.0      0.0   \n",
       "4      0.00    0.0  ...      0.0      1.0      1.0      1.0      1.0      1.0   \n",
       "\n",
       "   churn_8  churn_9  churn_10  dec_churn  \n",
       "0      0.0      0.0       0.0        0.0  \n",
       "1      0.0      0.0       0.0        0.0  \n",
       "2      0.0      0.0       0.0        0.0  \n",
       "3      0.0      0.0       0.0        0.0  \n",
       "4      1.0      1.0       1.0        1.0  \n",
       "\n",
       "[5 rows x 61 columns]"
      ]
     },
     "execution_count": 88,
     "metadata": {},
     "output_type": "execute_result"
    }
   ],
   "source": [
    "customer_data_2017.head()"
   ]
  },
  {
   "cell_type": "code",
   "execution_count": 89,
   "metadata": {},
   "outputs": [],
   "source": [
    "data = customer_data_2017.append(customer_data_2018)"
   ]
  },
  {
   "cell_type": "code",
   "execution_count": 90,
   "metadata": {},
   "outputs": [
    {
     "data": {
      "text/plain": [
       "(20000, 61)"
      ]
     },
     "execution_count": 90,
     "metadata": {},
     "output_type": "execute_result"
    }
   ],
   "source": [
    "data.shape"
   ]
  },
  {
   "cell_type": "code",
   "execution_count": 91,
   "metadata": {},
   "outputs": [
    {
     "data": {
      "text/plain": [
       "(10000, 61)"
      ]
     },
     "execution_count": 91,
     "metadata": {},
     "output_type": "execute_result"
    }
   ],
   "source": [
    "customer_data_2017.shape"
   ]
  },
  {
   "cell_type": "code",
   "execution_count": 92,
   "metadata": {},
   "outputs": [
    {
     "data": {
      "text/plain": [
       "(10000, 61)"
      ]
     },
     "execution_count": 92,
     "metadata": {},
     "output_type": "execute_result"
    }
   ],
   "source": [
    "customer_data_2018.shape"
   ]
  },
  {
   "cell_type": "code",
   "execution_count": 93,
   "metadata": {},
   "outputs": [
    {
     "data": {
      "text/plain": [
       "Index(['gender', 'birth_year', 'jan_1', 'jan_2', 'jan_3', 'jan_4', 'feb_1',\n",
       "       'feb_2', 'feb_3', 'feb_4', 'mar_1', 'mar_2', 'mar_3', 'mar_4', 'apr_1',\n",
       "       'apr_2', 'apr_3', 'apr_4', 'may_1', 'may_2', 'may_3', 'may_4', 'jun_1',\n",
       "       'jun_2', 'jun_3', 'jun_4', 'jul_1', 'jul_2', 'jul_3', 'jul_4', 'aug_1',\n",
       "       'aug_2', 'aug_3', 'aug_4', 'sep_1', 'sep_2', 'sep_3', 'sep_4', 'oct_1',\n",
       "       'oct_2', 'oct_3', 'oct_4', 'nov_1', 'nov_2', 'nov_3', 'nov_4', 'dec_1',\n",
       "       'dec_2', 'dec_3', 'dec_4', 'churn_1', 'churn_2', 'churn_3', 'churn_4',\n",
       "       'churn_5', 'churn_6', 'churn_7', 'churn_8', 'churn_9', 'churn_10',\n",
       "       'dec_churn'],\n",
       "      dtype='object')"
      ]
     },
     "execution_count": 93,
     "metadata": {},
     "output_type": "execute_result"
    }
   ],
   "source": [
    "data.columns"
   ]
  },
  {
   "cell_type": "code",
   "execution_count": 94,
   "metadata": {},
   "outputs": [],
   "source": [
    "X = data.drop('dec_churn', 1)\n",
    "y = data['dec_churn']\n",
    "\n",
    "customer_data_2019 = customer_data_2019.drop('dec_churn', 1)\n",
    "xdata = customer_data_2019.copy()\n",
    "test = xdata.drop('customer_id', 1)\n",
    "test_id = xdata['customer_id']"
   ]
  },
  {
   "cell_type": "code",
   "execution_count": 95,
   "metadata": {},
   "outputs": [
    {
     "data": {
      "text/plain": [
       "(20000, 60)"
      ]
     },
     "execution_count": 95,
     "metadata": {},
     "output_type": "execute_result"
    }
   ],
   "source": [
    "X.shape"
   ]
  },
  {
   "cell_type": "code",
   "execution_count": 96,
   "metadata": {},
   "outputs": [
    {
     "data": {
      "text/plain": [
       "(10000, 61)"
      ]
     },
     "execution_count": 96,
     "metadata": {},
     "output_type": "execute_result"
    }
   ],
   "source": [
    "customer_data_2019.shape"
   ]
  },
  {
   "cell_type": "code",
   "execution_count": 97,
   "metadata": {},
   "outputs": [
    {
     "data": {
      "text/plain": [
       "(10000, 60)"
      ]
     },
     "execution_count": 97,
     "metadata": {},
     "output_type": "execute_result"
    }
   ],
   "source": [
    "test.shape"
   ]
  },
  {
   "cell_type": "code",
   "execution_count": 98,
   "metadata": {},
   "outputs": [
    {
     "data": {
      "text/plain": [
       "(30000, 60)"
      ]
     },
     "execution_count": 98,
     "metadata": {},
     "output_type": "execute_result"
    }
   ],
   "source": [
    "data_comp = X.append(test) #combining training and test\n",
    "data_comp.shape"
   ]
  },
  {
   "cell_type": "code",
   "execution_count": 99,
   "metadata": {},
   "outputs": [],
   "source": [
    "data_comp['gender'] = data_comp['gender'].map({'male': 1, 'female': 0})"
   ]
  },
  {
   "cell_type": "code",
   "execution_count": 100,
   "metadata": {},
   "outputs": [
    {
     "data": {
      "text/plain": [
       "1    19989\n",
       "0    10011\n",
       "Name: gender, dtype: int64"
      ]
     },
     "execution_count": 100,
     "metadata": {},
     "output_type": "execute_result"
    }
   ],
   "source": [
    "data_comp.gender.value_counts()"
   ]
  },
  {
   "cell_type": "code",
   "execution_count": 101,
   "metadata": {},
   "outputs": [
    {
     "data": {
      "text/plain": [
       "0    0\n",
       "1    0\n",
       "2    1\n",
       "3    1\n",
       "4    1\n",
       "5    0\n",
       "6    1\n",
       "7    1\n",
       "8    1\n",
       "9    1\n",
       "Name: gender, dtype: int64"
      ]
     },
     "execution_count": 101,
     "metadata": {},
     "output_type": "execute_result"
    }
   ],
   "source": [
    "data_comp['gender'].head(10)"
   ]
  },
  {
   "cell_type": "code",
   "execution_count": 102,
   "metadata": {},
   "outputs": [],
   "source": [
    "X = data_comp.iloc[:len(X)]\n",
    "test = data_comp.iloc[len(X):]"
   ]
  },
  {
   "cell_type": "code",
   "execution_count": 103,
   "metadata": {},
   "outputs": [
    {
     "name": "stdout",
     "output_type": "stream",
     "text": [
      "gender 0\n",
      "birth_year 0\n",
      "jan_1 0\n",
      "jan_2 0\n",
      "jan_3 0\n",
      "jan_4 0\n",
      "feb_1 0\n",
      "feb_2 0\n",
      "feb_3 0\n",
      "feb_4 0\n",
      "mar_1 0\n",
      "mar_2 0\n",
      "mar_3 0\n",
      "mar_4 0\n",
      "apr_1 0\n",
      "apr_2 0\n",
      "apr_3 0\n",
      "apr_4 0\n",
      "may_1 0\n",
      "may_2 0\n",
      "may_3 0\n",
      "may_4 0\n",
      "jun_1 0\n",
      "jun_2 0\n",
      "jun_3 0\n",
      "jun_4 0\n",
      "jul_1 0\n",
      "jul_2 0\n",
      "jul_3 0\n",
      "jul_4 0\n",
      "aug_1 0\n",
      "aug_2 0\n",
      "aug_3 0\n",
      "aug_4 0\n",
      "sep_1 0\n",
      "sep_2 0\n",
      "sep_3 0\n",
      "sep_4 0\n",
      "oct_1 0\n",
      "oct_2 0\n",
      "oct_3 0\n",
      "oct_4 0\n",
      "nov_1 0\n",
      "nov_2 0\n",
      "nov_3 0\n",
      "nov_4 0\n",
      "dec_1 0\n",
      "dec_2 0\n",
      "dec_3 0\n",
      "dec_4 0\n",
      "churn_1 0\n",
      "churn_2 0\n",
      "churn_3 0\n",
      "churn_4 0\n",
      "churn_5 0\n",
      "churn_6 0\n",
      "churn_7 0\n",
      "churn_8 0\n",
      "churn_9 0\n",
      "churn_10 0\n"
     ]
    }
   ],
   "source": [
    "for i in data_comp.columns:\n",
    "    print(i, data_comp[i].isnull().sum())"
   ]
  },
  {
   "cell_type": "code",
   "execution_count": 104,
   "metadata": {},
   "outputs": [
    {
     "data": {
      "text/html": [
       "<div>\n",
       "<style scoped>\n",
       "    .dataframe tbody tr th:only-of-type {\n",
       "        vertical-align: middle;\n",
       "    }\n",
       "\n",
       "    .dataframe tbody tr th {\n",
       "        vertical-align: top;\n",
       "    }\n",
       "\n",
       "    .dataframe thead th {\n",
       "        text-align: right;\n",
       "    }\n",
       "</style>\n",
       "<table border=\"1\" class=\"dataframe\">\n",
       "  <thead>\n",
       "    <tr style=\"text-align: right;\">\n",
       "      <th></th>\n",
       "      <th>gender</th>\n",
       "      <th>birth_year</th>\n",
       "      <th>jan_1</th>\n",
       "      <th>jan_2</th>\n",
       "      <th>jan_3</th>\n",
       "      <th>jan_4</th>\n",
       "      <th>feb_1</th>\n",
       "      <th>feb_2</th>\n",
       "      <th>feb_3</th>\n",
       "      <th>feb_4</th>\n",
       "      <th>...</th>\n",
       "      <th>churn_1</th>\n",
       "      <th>churn_2</th>\n",
       "      <th>churn_3</th>\n",
       "      <th>churn_4</th>\n",
       "      <th>churn_5</th>\n",
       "      <th>churn_6</th>\n",
       "      <th>churn_7</th>\n",
       "      <th>churn_8</th>\n",
       "      <th>churn_9</th>\n",
       "      <th>churn_10</th>\n",
       "    </tr>\n",
       "  </thead>\n",
       "  <tbody>\n",
       "    <tr>\n",
       "      <td>count</td>\n",
       "      <td>30000.000000</td>\n",
       "      <td>30000.000000</td>\n",
       "      <td>30000.000000</td>\n",
       "      <td>30000.000000</td>\n",
       "      <td>30000.000000</td>\n",
       "      <td>30000.000000</td>\n",
       "      <td>30000.000000</td>\n",
       "      <td>30000.000000</td>\n",
       "      <td>30000.000000</td>\n",
       "      <td>30000.000000</td>\n",
       "      <td>...</td>\n",
       "      <td>30000.000000</td>\n",
       "      <td>30000.000000</td>\n",
       "      <td>30000.000000</td>\n",
       "      <td>30000.000000</td>\n",
       "      <td>30000.000000</td>\n",
       "      <td>30000.000000</td>\n",
       "      <td>30000.000000</td>\n",
       "      <td>30000.000000</td>\n",
       "      <td>30000.000000</td>\n",
       "      <td>30000.000000</td>\n",
       "    </tr>\n",
       "    <tr>\n",
       "      <td>mean</td>\n",
       "      <td>0.666300</td>\n",
       "      <td>1978.021847</td>\n",
       "      <td>1376.801969</td>\n",
       "      <td>0.517200</td>\n",
       "      <td>3847.115039</td>\n",
       "      <td>1.677033</td>\n",
       "      <td>1327.179650</td>\n",
       "      <td>0.503133</td>\n",
       "      <td>3568.332571</td>\n",
       "      <td>1.567300</td>\n",
       "      <td>...</td>\n",
       "      <td>0.552733</td>\n",
       "      <td>0.526433</td>\n",
       "      <td>0.523700</td>\n",
       "      <td>0.531333</td>\n",
       "      <td>0.522200</td>\n",
       "      <td>0.513800</td>\n",
       "      <td>0.513233</td>\n",
       "      <td>0.511100</td>\n",
       "      <td>0.499333</td>\n",
       "      <td>0.475033</td>\n",
       "    </tr>\n",
       "    <tr>\n",
       "      <td>std</td>\n",
       "      <td>0.471542</td>\n",
       "      <td>12.545948</td>\n",
       "      <td>4708.384176</td>\n",
       "      <td>1.316825</td>\n",
       "      <td>11081.729741</td>\n",
       "      <td>3.805191</td>\n",
       "      <td>4499.883332</td>\n",
       "      <td>1.272993</td>\n",
       "      <td>10009.947379</td>\n",
       "      <td>3.530083</td>\n",
       "      <td>...</td>\n",
       "      <td>0.497220</td>\n",
       "      <td>0.499309</td>\n",
       "      <td>0.499446</td>\n",
       "      <td>0.499026</td>\n",
       "      <td>0.499515</td>\n",
       "      <td>0.499818</td>\n",
       "      <td>0.499833</td>\n",
       "      <td>0.499885</td>\n",
       "      <td>0.500008</td>\n",
       "      <td>0.499385</td>\n",
       "    </tr>\n",
       "    <tr>\n",
       "      <td>min</td>\n",
       "      <td>0.000000</td>\n",
       "      <td>1939.000000</td>\n",
       "      <td>-50.000000</td>\n",
       "      <td>0.000000</td>\n",
       "      <td>0.000000</td>\n",
       "      <td>0.000000</td>\n",
       "      <td>-950.000000</td>\n",
       "      <td>0.000000</td>\n",
       "      <td>0.000000</td>\n",
       "      <td>0.000000</td>\n",
       "      <td>...</td>\n",
       "      <td>0.000000</td>\n",
       "      <td>0.000000</td>\n",
       "      <td>0.000000</td>\n",
       "      <td>0.000000</td>\n",
       "      <td>0.000000</td>\n",
       "      <td>0.000000</td>\n",
       "      <td>0.000000</td>\n",
       "      <td>0.000000</td>\n",
       "      <td>0.000000</td>\n",
       "      <td>0.000000</td>\n",
       "    </tr>\n",
       "    <tr>\n",
       "      <td>25%</td>\n",
       "      <td>0.000000</td>\n",
       "      <td>1970.000000</td>\n",
       "      <td>0.000000</td>\n",
       "      <td>0.000000</td>\n",
       "      <td>0.000000</td>\n",
       "      <td>0.000000</td>\n",
       "      <td>0.000000</td>\n",
       "      <td>0.000000</td>\n",
       "      <td>0.000000</td>\n",
       "      <td>0.000000</td>\n",
       "      <td>...</td>\n",
       "      <td>0.000000</td>\n",
       "      <td>0.000000</td>\n",
       "      <td>0.000000</td>\n",
       "      <td>0.000000</td>\n",
       "      <td>0.000000</td>\n",
       "      <td>0.000000</td>\n",
       "      <td>0.000000</td>\n",
       "      <td>0.000000</td>\n",
       "      <td>0.000000</td>\n",
       "      <td>0.000000</td>\n",
       "    </tr>\n",
       "    <tr>\n",
       "      <td>50%</td>\n",
       "      <td>1.000000</td>\n",
       "      <td>1979.000000</td>\n",
       "      <td>0.000000</td>\n",
       "      <td>0.000000</td>\n",
       "      <td>0.000000</td>\n",
       "      <td>0.000000</td>\n",
       "      <td>0.000000</td>\n",
       "      <td>0.000000</td>\n",
       "      <td>0.000000</td>\n",
       "      <td>0.000000</td>\n",
       "      <td>...</td>\n",
       "      <td>1.000000</td>\n",
       "      <td>1.000000</td>\n",
       "      <td>1.000000</td>\n",
       "      <td>1.000000</td>\n",
       "      <td>1.000000</td>\n",
       "      <td>1.000000</td>\n",
       "      <td>1.000000</td>\n",
       "      <td>1.000000</td>\n",
       "      <td>0.000000</td>\n",
       "      <td>0.000000</td>\n",
       "    </tr>\n",
       "    <tr>\n",
       "      <td>75%</td>\n",
       "      <td>1.000000</td>\n",
       "      <td>1988.000000</td>\n",
       "      <td>100.000000</td>\n",
       "      <td>0.000000</td>\n",
       "      <td>2487.010000</td>\n",
       "      <td>2.000000</td>\n",
       "      <td>100.000000</td>\n",
       "      <td>0.000000</td>\n",
       "      <td>2375.620000</td>\n",
       "      <td>2.000000</td>\n",
       "      <td>...</td>\n",
       "      <td>1.000000</td>\n",
       "      <td>1.000000</td>\n",
       "      <td>1.000000</td>\n",
       "      <td>1.000000</td>\n",
       "      <td>1.000000</td>\n",
       "      <td>1.000000</td>\n",
       "      <td>1.000000</td>\n",
       "      <td>1.000000</td>\n",
       "      <td>1.000000</td>\n",
       "      <td>1.000000</td>\n",
       "    </tr>\n",
       "    <tr>\n",
       "      <td>max</td>\n",
       "      <td>1.000000</td>\n",
       "      <td>2003.000000</td>\n",
       "      <td>128834.860000</td>\n",
       "      <td>26.000000</td>\n",
       "      <td>642328.800000</td>\n",
       "      <td>74.000000</td>\n",
       "      <td>92274.640000</td>\n",
       "      <td>15.000000</td>\n",
       "      <td>548266.990000</td>\n",
       "      <td>57.000000</td>\n",
       "      <td>...</td>\n",
       "      <td>1.000000</td>\n",
       "      <td>1.000000</td>\n",
       "      <td>1.000000</td>\n",
       "      <td>1.000000</td>\n",
       "      <td>1.000000</td>\n",
       "      <td>1.000000</td>\n",
       "      <td>1.000000</td>\n",
       "      <td>1.000000</td>\n",
       "      <td>1.000000</td>\n",
       "      <td>1.000000</td>\n",
       "    </tr>\n",
       "  </tbody>\n",
       "</table>\n",
       "<p>8 rows × 60 columns</p>\n",
       "</div>"
      ],
      "text/plain": [
       "             gender    birth_year          jan_1         jan_2          jan_3  \\\n",
       "count  30000.000000  30000.000000   30000.000000  30000.000000   30000.000000   \n",
       "mean       0.666300   1978.021847    1376.801969      0.517200    3847.115039   \n",
       "std        0.471542     12.545948    4708.384176      1.316825   11081.729741   \n",
       "min        0.000000   1939.000000     -50.000000      0.000000       0.000000   \n",
       "25%        0.000000   1970.000000       0.000000      0.000000       0.000000   \n",
       "50%        1.000000   1979.000000       0.000000      0.000000       0.000000   \n",
       "75%        1.000000   1988.000000     100.000000      0.000000    2487.010000   \n",
       "max        1.000000   2003.000000  128834.860000     26.000000  642328.800000   \n",
       "\n",
       "              jan_4         feb_1         feb_2          feb_3         feb_4  \\\n",
       "count  30000.000000  30000.000000  30000.000000   30000.000000  30000.000000   \n",
       "mean       1.677033   1327.179650      0.503133    3568.332571      1.567300   \n",
       "std        3.805191   4499.883332      1.272993   10009.947379      3.530083   \n",
       "min        0.000000   -950.000000      0.000000       0.000000      0.000000   \n",
       "25%        0.000000      0.000000      0.000000       0.000000      0.000000   \n",
       "50%        0.000000      0.000000      0.000000       0.000000      0.000000   \n",
       "75%        2.000000    100.000000      0.000000    2375.620000      2.000000   \n",
       "max       74.000000  92274.640000     15.000000  548266.990000     57.000000   \n",
       "\n",
       "       ...       churn_1       churn_2       churn_3       churn_4  \\\n",
       "count  ...  30000.000000  30000.000000  30000.000000  30000.000000   \n",
       "mean   ...      0.552733      0.526433      0.523700      0.531333   \n",
       "std    ...      0.497220      0.499309      0.499446      0.499026   \n",
       "min    ...      0.000000      0.000000      0.000000      0.000000   \n",
       "25%    ...      0.000000      0.000000      0.000000      0.000000   \n",
       "50%    ...      1.000000      1.000000      1.000000      1.000000   \n",
       "75%    ...      1.000000      1.000000      1.000000      1.000000   \n",
       "max    ...      1.000000      1.000000      1.000000      1.000000   \n",
       "\n",
       "            churn_5       churn_6       churn_7       churn_8       churn_9  \\\n",
       "count  30000.000000  30000.000000  30000.000000  30000.000000  30000.000000   \n",
       "mean       0.522200      0.513800      0.513233      0.511100      0.499333   \n",
       "std        0.499515      0.499818      0.499833      0.499885      0.500008   \n",
       "min        0.000000      0.000000      0.000000      0.000000      0.000000   \n",
       "25%        0.000000      0.000000      0.000000      0.000000      0.000000   \n",
       "50%        1.000000      1.000000      1.000000      1.000000      0.000000   \n",
       "75%        1.000000      1.000000      1.000000      1.000000      1.000000   \n",
       "max        1.000000      1.000000      1.000000      1.000000      1.000000   \n",
       "\n",
       "           churn_10  \n",
       "count  30000.000000  \n",
       "mean       0.475033  \n",
       "std        0.499385  \n",
       "min        0.000000  \n",
       "25%        0.000000  \n",
       "50%        0.000000  \n",
       "75%        1.000000  \n",
       "max        1.000000  \n",
       "\n",
       "[8 rows x 60 columns]"
      ]
     },
     "execution_count": 104,
     "metadata": {},
     "output_type": "execute_result"
    }
   ],
   "source": [
    "data_comp.describe()"
   ]
  },
  {
   "cell_type": "code",
   "execution_count": 105,
   "metadata": {},
   "outputs": [
    {
     "data": {
      "text/plain": [
       "(20000, 60)"
      ]
     },
     "execution_count": 105,
     "metadata": {},
     "output_type": "execute_result"
    }
   ],
   "source": [
    "X.shape"
   ]
  },
  {
   "cell_type": "code",
   "execution_count": 106,
   "metadata": {},
   "outputs": [],
   "source": [
    "from sklearn.model_selection import train_test_split\n",
    "X_train, X_test, y_train, y_test = train_test_split(X, y, test_size = .2) #train test dataset splitting"
   ]
  },
  {
   "cell_type": "code",
   "execution_count": 107,
   "metadata": {},
   "outputs": [
    {
     "name": "stdout",
     "output_type": "stream",
     "text": [
      "0\n"
     ]
    }
   ],
   "source": [
    "print(data_comp.isnull().sum().sum())"
   ]
  },
  {
   "cell_type": "code",
   "execution_count": 108,
   "metadata": {},
   "outputs": [
    {
     "data": {
      "text/plain": [
       "0    0.0\n",
       "1    0.0\n",
       "2    0.0\n",
       "3    0.0\n",
       "4    1.0\n",
       "Name: dec_churn, dtype: float64"
      ]
     },
     "execution_count": 108,
     "metadata": {},
     "output_type": "execute_result"
    }
   ],
   "source": [
    "y.head()"
   ]
  },
  {
   "cell_type": "code",
   "execution_count": 26,
   "metadata": {},
   "outputs": [
    {
     "name": "stderr",
     "output_type": "stream",
     "text": [
      "C:\\Users\\chand\\Anaconda3\\lib\\site-packages\\sklearn\\linear_model\\logistic.py:432: FutureWarning: Default solver will be changed to 'lbfgs' in 0.22. Specify a solver to silence this warning.\n",
      "  FutureWarning)\n"
     ]
    },
    {
     "name": "stdout",
     "output_type": "stream",
     "text": [
      "Logistic Regression : 0.831\n",
      "Decision Tree Classification : 0.78275\n",
      "Gradient Boosting Classification : 0.83425\n",
      "Ada Boosting Classification : 0.82725\n",
      "RandomForest Classification : 0.82725\n"
     ]
    },
    {
     "name": "stderr",
     "output_type": "stream",
     "text": [
      "C:\\Users\\chand\\Anaconda3\\lib\\site-packages\\sklearn\\ensemble\\forest.py:245: FutureWarning: The default value of n_estimators will change from 10 in version 0.20 to 100 in 0.22.\n",
      "  \"10 in version 0.20 to 100 in 0.22.\", FutureWarning)\n"
     ]
    },
    {
     "name": "stdout",
     "output_type": "stream",
     "text": [
      "Extra Tree Classification : 0.8145\n",
      "K-Neighbors Classification : 0.8045\n"
     ]
    }
   ],
   "source": [
    "from sklearn.linear_model import LogisticRegression #trying different models\n",
    "from sklearn.tree import DecisionTreeClassifier\n",
    "from sklearn.ensemble import RandomForestClassifier\n",
    "from sklearn.ensemble import GradientBoostingClassifier\n",
    "from sklearn.ensemble import AdaBoostClassifier\n",
    "from sklearn.ensemble import ExtraTreesClassifier\n",
    "from sklearn.neighbors import KNeighborsClassifier\n",
    "from sklearn.svm import SVC\n",
    "from sklearn.naive_bayes import GaussianNB\n",
    "#from sklearn.model_selection import KFold\n",
    "from sklearn.metrics import accuracy_score\n",
    "\n",
    "classifiers=[['Logistic Regression :',LogisticRegression(max_iter = 1500)],\n",
    "       ['Decision Tree Classification :',DecisionTreeClassifier()],\n",
    "       ['Gradient Boosting Classification :', GradientBoostingClassifier()],\n",
    "       ['Ada Boosting Classification :',AdaBoostClassifier()],\n",
    "       ['RandomForest Classification :',AdaBoostClassifier()],\n",
    "       ['Extra Tree Classification :', ExtraTreesClassifier()],\n",
    "       ['K-Neighbors Classification :',KNeighborsClassifier()]] # ['Gaussian Naive Bayes :',GaussianNB()]\n",
    "cla_pred=[]\n",
    "for name,model in classifiers:\n",
    "    model=model\n",
    "    model.fit(X_train,y_train)\n",
    "    predictions = model.predict(X_test)\n",
    "    cla_pred.append(accuracy_score(y_test,predictions))\n",
    "    print(name,accuracy_score(y_test,predictions))"
   ]
  },
  {
   "cell_type": "code",
   "execution_count": 109,
   "metadata": {},
   "outputs": [
    {
     "name": "stdout",
     "output_type": "stream",
     "text": [
      "0.83275\n"
     ]
    }
   ],
   "source": [
    "gbmodel = GradientBoostingClassifier() #using the best parameters\n",
    "gbmodel.fit(X_train, y_train)\n",
    "predictions = gbmodel.predict(X_test)\n",
    "print(accuracy_score(y_test,predictions))"
   ]
  },
  {
   "cell_type": "code",
   "execution_count": 110,
   "metadata": {},
   "outputs": [
    {
     "name": "stdout",
     "output_type": "stream",
     "text": [
      "[[1506  433]\n",
      " [ 236 1825]]\n",
      "              precision    recall  f1-score   support\n",
      "\n",
      "         0.0       0.86      0.78      0.82      1939\n",
      "         1.0       0.81      0.89      0.85      2061\n",
      "\n",
      "    accuracy                           0.83      4000\n",
      "   macro avg       0.84      0.83      0.83      4000\n",
      "weighted avg       0.84      0.83      0.83      4000\n",
      "\n",
      "0.83275\n"
     ]
    }
   ],
   "source": [
    "from sklearn.metrics import classification_report,confusion_matrix #evaluating the model\n",
    "print(confusion_matrix(y_test,predictions))\n",
    "print(classification_report(y_test,predictions))\n",
    "print(accuracy_score(y_test,predictions))"
   ]
  },
  {
   "cell_type": "code",
   "execution_count": 112,
   "metadata": {},
   "outputs": [],
   "source": [
    "pred = gbmodel.predict_proba(test)"
   ]
  },
  {
   "cell_type": "code",
   "execution_count": 115,
   "metadata": {},
   "outputs": [
    {
     "data": {
      "text/plain": [
       "array([[0.98240701, 0.01759299],\n",
       "       [0.98391877, 0.01608123],\n",
       "       [0.99338507, 0.00661493],\n",
       "       [0.7023831 , 0.2976169 ],\n",
       "       [0.99458106, 0.00541894],\n",
       "       [0.13744565, 0.86255435],\n",
       "       [0.50368088, 0.49631912],\n",
       "       [0.96124165, 0.03875835],\n",
       "       [0.78258204, 0.21741796]])"
      ]
     },
     "execution_count": 115,
     "metadata": {},
     "output_type": "execute_result"
    }
   ],
   "source": [
    "pred[1:10]"
   ]
  },
  {
   "cell_type": "code",
   "execution_count": 118,
   "metadata": {},
   "outputs": [],
   "source": [
    "submission = pd.DataFrame({\n",
    "    'customer_id': test_id,\n",
    "    'prob': list(x[1] for x in pred )\n",
    "})\n",
    "#print(submission.NEXT_MONTH_DEFAULT.value_counts())\n",
    "submission.to_csv('submission.csv', index = False)"
   ]
  },
  {
   "cell_type": "code",
   "execution_count": 117,
   "metadata": {},
   "outputs": [
    {
     "name": "stdout",
     "output_type": "stream",
     "text": [
      "0.879176    418\n",
      "0.870725    257\n",
      "0.877327    217\n",
      "0.880899    165\n",
      "0.880508    162\n",
      "           ... \n",
      "0.669757      1\n",
      "0.595672      1\n",
      "0.755122      1\n",
      "0.202391      1\n",
      "0.011685      1\n",
      "Name: prob, Length: 7340, dtype: int64\n"
     ]
    }
   ],
   "source": [
    "print(submission.prob.value_counts())"
   ]
  },
  {
   "cell_type": "code",
   "execution_count": 42,
   "metadata": {},
   "outputs": [],
   "source": [
    "x_dnn = X.copy()\n",
    "y_dnn = y.copy()"
   ]
  },
  {
   "cell_type": "code",
   "execution_count": 43,
   "metadata": {},
   "outputs": [],
   "source": [
    "y_train = np.array(y_dnn)\n",
    "x_train = np.array(x_dnn)"
   ]
  },
  {
   "cell_type": "code",
   "execution_count": 45,
   "metadata": {},
   "outputs": [],
   "source": [
    "from sklearn.model_selection import train_test_split\n",
    "xTrain, xTest, yTrain, yTest = train_test_split(x_train, y_train, test_size = 0.2, random_state = 0)"
   ]
  },
  {
   "cell_type": "code",
   "execution_count": 46,
   "metadata": {},
   "outputs": [],
   "source": [
    "import tensorflow as tf"
   ]
  },
  {
   "cell_type": "code",
   "execution_count": 61,
   "metadata": {},
   "outputs": [
    {
     "name": "stdout",
     "output_type": "stream",
     "text": [
      "Train on 15200 samples, validate on 800 samples\n",
      "Epoch 1/10\n",
      "15200/15200 [==============================] - 1s 88us/sample - loss: 23.6067 - accuracy: 0.6979 - val_loss: 2.3573 - val_accuracy: 0.7688\n",
      "Epoch 2/10\n",
      "15200/15200 [==============================] - 1s 53us/sample - loss: 2.0894 - accuracy: 0.7395 - val_loss: 0.5088 - val_accuracy: 0.7850\n",
      "Epoch 3/10\n",
      "15200/15200 [==============================] - 1s 57us/sample - loss: 0.6502 - accuracy: 0.7570 - val_loss: 0.4879 - val_accuracy: 0.8125\n",
      "Epoch 4/10\n",
      "15200/15200 [==============================] - 1s 59us/sample - loss: 0.5968 - accuracy: 0.7570 - val_loss: 0.4778 - val_accuracy: 0.8188\n",
      "Epoch 5/10\n",
      "15200/15200 [==============================] - 1s 54us/sample - loss: 0.5676 - accuracy: 0.7505 - val_loss: 0.4428 - val_accuracy: 0.8175\n",
      "Epoch 6/10\n",
      "15200/15200 [==============================] - 1s 56us/sample - loss: 0.5650 - accuracy: 0.7561 - val_loss: 0.4263 - val_accuracy: 0.8188\n",
      "Epoch 7/10\n",
      "15200/15200 [==============================] - 1s 61us/sample - loss: 0.5598 - accuracy: 0.7555 - val_loss: 0.4401 - val_accuracy: 0.8263\n",
      "Epoch 8/10\n",
      "15200/15200 [==============================] - 1s 53us/sample - loss: 0.5221 - accuracy: 0.7674 - val_loss: 0.4568 - val_accuracy: 0.8238\n",
      "Epoch 9/10\n",
      "15200/15200 [==============================] - 1s 57us/sample - loss: 0.5333 - accuracy: 0.7728 - val_loss: 0.4353 - val_accuracy: 0.8338\n",
      "Epoch 10/10\n",
      "15200/15200 [==============================] - 1s 54us/sample - loss: 0.5260 - accuracy: 0.7706 - val_loss: 0.4260 - val_accuracy: 0.8188\n"
     ]
    }
   ],
   "source": [
    "model = tf.keras.models.Sequential()\n",
    "\n",
    "model.add(tf.keras.layers.Flatten())\n",
    "\n",
    "model.add(tf.keras.layers.Dense(256,activation = tf.nn.relu))\n",
    "model.add(tf.keras.layers.Dropout(0.5))\n",
    "model.add(tf.keras.layers.Dense(32,activation = tf.nn.relu))\n",
    "model.add(tf.keras.layers.Dense(8,activation = tf.nn.relu))\n",
    "\n",
    "model.add(tf.keras.layers.Dense(1,activation =tf.nn.sigmoid))\n",
    "\n",
    "model.compile(optimizer = 'adam' , loss = 'binary_crossentropy',\n",
    "             metrics = ['accuracy'])\n",
    "history = model.fit(xTrain,yTrain,epochs = 10,validation_split=0.05)\n"
   ]
  },
  {
   "cell_type": "code",
   "execution_count": 62,
   "metadata": {},
   "outputs": [],
   "source": [
    "test_dnn =np.array(test)"
   ]
  },
  {
   "cell_type": "code",
   "execution_count": 63,
   "metadata": {},
   "outputs": [],
   "source": [
    "predictions = model.predict([test_dnn])"
   ]
  },
  {
   "cell_type": "code",
   "execution_count": 74,
   "metadata": {},
   "outputs": [],
   "source": [
    "submission = pd.DataFrame({\n",
    "    'customer_id': test_id,\n",
    "    'prob': predictions\n",
    "})"
   ]
  },
  {
   "cell_type": "code",
   "execution_count": 66,
   "metadata": {},
   "outputs": [
    {
     "data": {
      "text/plain": [
       "(10000, 1)"
      ]
     },
     "execution_count": 66,
     "metadata": {},
     "output_type": "execute_result"
    }
   ],
   "source": [
    "predictions.shape"
   ]
  },
  {
   "cell_type": "code",
   "execution_count": 70,
   "metadata": {},
   "outputs": [],
   "source": [
    "predictions = list(float(x) for x in predictions )"
   ]
  },
  {
   "cell_type": "code",
   "execution_count": 75,
   "metadata": {},
   "outputs": [],
   "source": [
    "submission.to_csv('submission_dnn.csv', index = False)"
   ]
  },
  {
   "cell_type": "code",
   "execution_count": 77,
   "metadata": {},
   "outputs": [],
   "source": [
    "import matplotlib.pyplot as plt"
   ]
  },
  {
   "cell_type": "code",
   "execution_count": 81,
   "metadata": {},
   "outputs": [
    {
     "data": {
      "image/png": "[encoded data removed]",
      "text/plain": [
       "<Figure size 432x288 with 1 Axes>"
      ]
     },
     "metadata": {
      "needs_background": "light"
     },
     "output_type": "display_data"
    },
    {
     "data": {
      "image/png": "[encoded data removed]",
      "text/plain": [
       "<Figure size 432x288 with 1 Axes>"
      ]
     },
     "metadata": {
      "needs_background": "light"
     },
     "output_type": "display_data"
    }
   ],
   "source": [
    "plt.plot(history.history['accuracy'])\n",
    "plt.plot(history.history['val_accuracy'])\n",
    "plt.title('model accuracy')\n",
    "plt.ylabel('accuracy')\n",
    "plt.xlabel('epoch')\n",
    "plt.legend(['train', 'test'], loc='upper left')\n",
    "plt.show()\n",
    "# summarize history for loss\n",
    "plt.plot(history.history['loss'])\n",
    "plt.plot(history.history['val_loss'])\n",
    "plt.title('model loss')\n",
    "plt.ylabel('loss')\n",
    "plt.xlabel('epoch')\n",
    "plt.legend(['train', 'test'], loc='upper left')\n",
    "plt.show()"
   ]
  },
  {
   "cell_type": "code",
   "execution_count": 80,
   "metadata": {},
   "outputs": [
    {
     "data": {
      "text/plain": [
       "{'loss': [23.606664833708813,\n",
       "  2.08937735479129,\n",
       "  0.6501729083061218,\n",
       "  0.5967698778604207,\n",
       "  0.5676120941889914,\n",
       "  0.5650017456631912,\n",
       "  0.5597771392370525,\n",
       "  0.5221109296146192,\n",
       "  0.5333433162538629,\n",
       "  0.5260149182771382],\n",
       " 'accuracy': [0.69789475,\n",
       "  0.7394737,\n",
       "  0.7570395,\n",
       "  0.7569737,\n",
       "  0.7505263,\n",
       "  0.7560526,\n",
       "  0.7554605,\n",
       "  0.76743424,\n",
       "  0.77276313,\n",
       "  0.7705921],\n",
       " 'val_loss': [2.357289333939552,\n",
       "  0.5088012278079986,\n",
       "  0.4878654086589813,\n",
       "  0.4777520537376404,\n",
       "  0.4427890145778656,\n",
       "  0.4263151240348816,\n",
       "  0.4401220393180847,\n",
       "  0.4568395531177521,\n",
       "  0.43532594442367556,\n",
       "  0.4260329484939575],\n",
       " 'val_accuracy': [0.76875,\n",
       "  0.785,\n",
       "  0.8125,\n",
       "  0.81875,\n",
       "  0.8175,\n",
       "  0.81875,\n",
       "  0.82625,\n",
       "  0.82375,\n",
       "  0.83375,\n",
       "  0.81875]}"
      ]
     },
     "execution_count": 80,
     "metadata": {},
     "output_type": "execute_result"
    }
   ],
   "source": [
    "history.history"
   ]
  },
  {
   "cell_type": "code",
   "execution_count": 122,
   "metadata": {},
   "outputs": [],
   "source": [
    "\n",
    "from sklearn.model_selection import StratifiedKFold\n",
    "from lightgbm import LGBMClassifier\n",
    "\n",
    "from sklearn.metrics import accuracy_score, classification_report, confusion_matrix\n",
    "\n",
    "def lgbm_evaluate(**params):\n",
    "#     warnings.simplefilter('ignore')\n",
    "    \n",
    "    params['num_leaves'] = int(params['num_leaves'])\n",
    "    params['max_depth'] = int(params['max_depth'])\n",
    "        \n",
    "    clf = LGBMClassifier(**params, n_estimators=20000, nthread=-1)\n",
    "\n",
    "    test_pred_proba = np.zeros((X_train.shape[0], 2))\n",
    "    \n",
    "    for n_fold, (train_idx, valid_idx) in enumerate(folds.split(X_train, y_train)):\n",
    "        X_train_bo, X_valid = X_train.iloc[train_idx], X_train.iloc[valid_idx]\n",
    "        y_train_bo, y_valid = y_train.iloc[train_idx], y_train.iloc[valid_idx]\n",
    "        \n",
    "        model = LGBMClassifier(**params, n_estimators = 10000, n_jobs = -1)\n",
    "        model.fit(X_train_bo, y_train_bo, \n",
    "                eval_set=[(X_train_bo, y_train_bo), (X_valid, y_valid)], eval_metric='binary_logloss',\n",
    "                verbose=False, early_stopping_rounds=200)\n",
    "\n",
    "        y_pred_valid = model.predict_proba(X_valid)\n",
    "\n",
    "        test_pred_proba[valid_idx] = y_pred_valid\n",
    "\n",
    "    return accuracy_score(y_valid, y_pred_valid.argmax(1))"
   ]
  },
  {
   "cell_type": "code",
   "execution_count": 124,
   "metadata": {},
   "outputs": [
    {
     "name": "stdout",
     "output_type": "stream",
     "text": [
      "|   iter    |  target   | colsam... | learni... | max_depth | min_ch... | min_sp... | num_le... | reg_alpha | reg_la... | subsample |\n",
      "-------------------------------------------------------------------------------------------------------------------------------------\n",
      "| \u001b[0m 1       \u001b[0m | \u001b[0m 0.8173  \u001b[0m | \u001b[0m 0.9998  \u001b[0m | \u001b[0m 0.001311\u001b[0m | \u001b[0m 5.694   \u001b[0m | \u001b[0m 70.28   \u001b[0m | \u001b[0m 0.003671\u001b[0m | \u001b[0m 64.4    \u001b[0m | \u001b[0m 3.502   \u001b[0m | \u001b[0m 3.005   \u001b[0m | \u001b[0m 0.8714  \u001b[0m |\n",
      "| \u001b[95m 2       \u001b[0m | \u001b[95m 0.8185  \u001b[0m | \u001b[95m 0.6381  \u001b[0m | \u001b[95m 0.01645 \u001b[0m | \u001b[95m 23.67   \u001b[0m | \u001b[95m 79.34   \u001b[0m | \u001b[95m 0.0234  \u001b[0m | \u001b[95m 32.4    \u001b[0m | \u001b[95m 9.992   \u001b[0m | \u001b[95m 14.91   \u001b[0m | \u001b[95m 0.9704  \u001b[0m |\n",
      "| \u001b[95m 3       \u001b[0m | \u001b[95m 0.821   \u001b[0m | \u001b[95m 0.8156  \u001b[0m | \u001b[95m 0.006686\u001b[0m | \u001b[95m 20.3    \u001b[0m | \u001b[95m 78.45   \u001b[0m | \u001b[95m 0.01322 \u001b[0m | \u001b[95m 84.19   \u001b[0m | \u001b[95m 9.031   \u001b[0m | \u001b[95m 4.811   \u001b[0m | \u001b[95m 0.9862  \u001b[0m |\n",
      "| \u001b[0m 4       \u001b[0m | \u001b[0m 0.8198  \u001b[0m | \u001b[0m 0.6465  \u001b[0m | \u001b[0m 0.03641 \u001b[0m | \u001b[0m 10.75   \u001b[0m | \u001b[0m 28.71   \u001b[0m | \u001b[0m 0.009357\u001b[0m | \u001b[0m 37.18   \u001b[0m | \u001b[0m 4.854   \u001b[0m | \u001b[0m 1.567   \u001b[0m | \u001b[0m 0.7707  \u001b[0m |\n",
      "| \u001b[0m 5       \u001b[0m | \u001b[0m 0.816   \u001b[0m | \u001b[0m 0.6305  \u001b[0m | \u001b[0m 0.00899 \u001b[0m | \u001b[0m 20.05   \u001b[0m | \u001b[0m 52.45   \u001b[0m | \u001b[0m 0.005242\u001b[0m | \u001b[0m 16.11   \u001b[0m | \u001b[0m 5.897   \u001b[0m | \u001b[0m 5.237   \u001b[0m | \u001b[0m 0.981   \u001b[0m |\n",
      "| \u001b[0m 6       \u001b[0m | \u001b[0m 0.8185  \u001b[0m | \u001b[0m 0.8383  \u001b[0m | \u001b[0m 0.07479 \u001b[0m | \u001b[0m 22.76   \u001b[0m | \u001b[0m 12.27   \u001b[0m | \u001b[0m 0.001065\u001b[0m | \u001b[0m 122.2   \u001b[0m | \u001b[0m 13.74   \u001b[0m | \u001b[0m 10.32   \u001b[0m | \u001b[0m 0.8132  \u001b[0m |\n",
      "| \u001b[0m 7       \u001b[0m | \u001b[0m 0.821   \u001b[0m | \u001b[0m 0.6988  \u001b[0m | \u001b[0m 0.007767\u001b[0m | \u001b[0m 5.357   \u001b[0m | \u001b[0m 78.97   \u001b[0m | \u001b[0m 0.0179  \u001b[0m | \u001b[0m 123.7   \u001b[0m | \u001b[0m 6.025   \u001b[0m | \u001b[0m 8.667   \u001b[0m | \u001b[0m 0.9272  \u001b[0m |\n",
      "| \u001b[0m 8       \u001b[0m | \u001b[0m 0.8185  \u001b[0m | \u001b[0m 0.7908  \u001b[0m | \u001b[0m 0.06295 \u001b[0m | \u001b[0m 5.119   \u001b[0m | \u001b[0m 78.27   \u001b[0m | \u001b[0m 0.02875 \u001b[0m | \u001b[0m 123.4   \u001b[0m | \u001b[0m 8.238   \u001b[0m | \u001b[0m 11.8    \u001b[0m | \u001b[0m 0.8514  \u001b[0m |\n",
      "| \u001b[0m 9       \u001b[0m | \u001b[0m 0.8185  \u001b[0m | \u001b[0m 0.6393  \u001b[0m | \u001b[0m 0.02952 \u001b[0m | \u001b[0m 24.28   \u001b[0m | \u001b[0m 78.36   \u001b[0m | \u001b[0m 0.006791\u001b[0m | \u001b[0m 123.4   \u001b[0m | \u001b[0m 14.52   \u001b[0m | \u001b[0m 2.073   \u001b[0m | \u001b[0m 0.6376  \u001b[0m |\n",
      "| \u001b[95m 10      \u001b[0m | \u001b[95m 0.8223  \u001b[0m | \u001b[95m 0.8053  \u001b[0m | \u001b[95m 0.02537 \u001b[0m | \u001b[95m 3.86    \u001b[0m | \u001b[95m 13.91   \u001b[0m | \u001b[95m 0.02264 \u001b[0m | \u001b[95m 122.2   \u001b[0m | \u001b[95m 3.28    \u001b[0m | \u001b[95m 10.94   \u001b[0m | \u001b[95m 0.9263  \u001b[0m |\n",
      "=====================================================================================================================================\n"
     ]
    }
   ],
   "source": [
    "params = {'colsample_bytree': (0.6, 1),\n",
    "     'learning_rate': (.001, .08), \n",
    "      'num_leaves': (8, 124), \n",
    "      'subsample': (0.6, 1), \n",
    "      'max_depth': (3, 25), \n",
    "      'reg_alpha': (.05, 15.0), \n",
    "      'reg_lambda': (.05, 15.0), \n",
    "      'min_split_gain': (.001, .03),\n",
    "      'min_child_weight': (12, 80)}\n",
    "\n",
    "from sklearn.model_selection import StratifiedKFold\n",
    "n_fold = 20\n",
    "folds = StratifiedKFold(n_splits=n_fold, shuffle=True, random_state=11)\n",
    "\n",
    "from bayes_opt import BayesianOptimization\n",
    "bo = BayesianOptimization(lgbm_evaluate, params)\n",
    "bo.maximize(init_points=5, n_iter=5)"
   ]
  },
  {
   "cell_type": "code",
   "execution_count": 125,
   "metadata": {},
   "outputs": [],
   "source": [
    "params = {'num_leaves': int(bo.max['params']['num_leaves']), #parameter finding\n",
    "          'min_data_in_leaf': int(bo.max['params']['min_child_weight']),\n",
    "          'min_split_gain': bo.max['params']['min_split_gain'],\n",
    "          'objective': 'binary',\n",
    "          'max_depth': int(bo.max['params']['max_depth']),\n",
    "          'learning_rate': bo.max['params']['learning_rate'],\n",
    "          \"boosting\": \"gbdt\",\n",
    "          \"bagging_freq\": 5,\n",
    "          \"bagging_fraction\": bo.max['params']['subsample'],\n",
    "          \"bagging_seed\": 11,\n",
    "          \"verbosity\": -1,\n",
    "          'reg_alpha': bo.max['params']['reg_alpha'],\n",
    "          'reg_lambda': bo.max['params']['reg_lambda'],\n",
    "          \"num_class\": 1,\n",
    "          'nthread': -1\n",
    "         }"
   ]
  },
  {
   "cell_type": "markdown",
   "metadata": {},
   "source": [
    "params = {'num_leaves': 122,\n",
    " 'min_data_in_leaf': 13,\n",
    " 'min_split_gain': 0.022640804386403073,\n",
    " 'objective': 'binary',\n",
    " 'max_depth': 3,\n",
    " 'learning_rate': 0.025367572927557515,\n",
    " 'boosting': 'gbdt',\n",
    " 'bagging_freq': 5,\n",
    " 'bagging_fraction': 0.92629819198467,\n",
    " 'bagging_seed': 11,\n",
    " 'verbosity': -1,\n",
    " 'reg_alpha': 3.2795847332967596,\n",
    " 'reg_lambda': 10.941132241579544,\n",
    " 'num_class': 1,\n",
    " 'nthread': -1}\n",
    "\n"
   ]
  },
  {
   "cell_type": "code",
   "execution_count": 128,
   "metadata": {},
   "outputs": [
    {
     "name": "stdout",
     "output_type": "stream",
     "text": [
      "Training until validation scores don't improve for 4000 rounds\n",
      "Early stopping, best iteration is:\n",
      "[290]\ttraining's binary_logloss: 0.377327\tvalid_1's binary_logloss: 0.391342\n",
      "0.832 0.833625\n"
     ]
    }
   ],
   "source": [
    "from lightgbm import LGBMClassifier #model fitting\n",
    "from sklearn.metrics import accuracy_score\n",
    "\n",
    "model = LGBMClassifier(**params, n_estimators = 10000, n_jobs = -1)\n",
    "model.fit(X_train, y_train, \n",
    "        eval_set=[(X_train, y_train), (X_test, y_test)], eval_metric='binary_logloss',\n",
    "        verbose=5000, early_stopping_rounds=4000)\n",
    "\n",
    "predictions = model.predict(X_test)\n",
    "predictions_ = model.predict(X_train)\n",
    "\n",
    "print(accuracy_score(y_test, predictions), accuracy_score(y_train, predictions_))"
   ]
  },
  {
   "cell_type": "code",
   "execution_count": 129,
   "metadata": {},
   "outputs": [
    {
     "name": "stdout",
     "output_type": "stream",
     "text": [
      "[[1510  429]\n",
      " [ 243 1818]]\n",
      "              precision    recall  f1-score   support\n",
      "\n",
      "         0.0       0.86      0.78      0.82      1939\n",
      "         1.0       0.81      0.88      0.84      2061\n",
      "\n",
      "    accuracy                           0.83      4000\n",
      "   macro avg       0.84      0.83      0.83      4000\n",
      "weighted avg       0.83      0.83      0.83      4000\n",
      "\n",
      "0.832\n"
     ]
    }
   ],
   "source": [
    "from sklearn.metrics import classification_report,confusion_matrix #evaluating the model\n",
    "print(confusion_matrix(y_test,predictions))\n",
    "print(classification_report(y_test,predictions))\n",
    "print(accuracy_score(y_test,predictions))"
   ]
  },
  {
   "cell_type": "code",
   "execution_count": 132,
   "metadata": {},
   "outputs": [],
   "source": [
    "pred = model.predict_proba(test)"
   ]
  },
  {
   "cell_type": "code",
   "execution_count": 133,
   "metadata": {},
   "outputs": [],
   "source": [
    "submission = pd.DataFrame({\n",
    "    'customer_id': test_id,\n",
    "    'prob': list(x[1] for x in pred )\n",
    "})\n",
    "#print(submission.NEXT_MONTH_DEFAULT.value_counts())\n",
    "submission.to_csv('submissionlgbm.csv', index = False)"
   ]
  },
  {
   "cell_type": "code",
   "execution_count": 134,
   "metadata": {},
   "outputs": [
    {
     "data": {
      "text/plain": [
       "<matplotlib.axes._subplots.AxesSubplot at 0x28b973d9c08>"
      ]
     },
     "execution_count": 134,
     "metadata": {},
     "output_type": "execute_result"
    },
    {
     "data": {
      "image/png": "[encoded data removed]",
      "text/plain": [
       "<Figure size 432x288 with 1 Axes>"
      ]
     },
     "metadata": {
      "needs_background": "light"
     },
     "output_type": "display_data"
    }
   ],
   "source": [
    "importance = model.feature_importances_\n",
    "feat_importances_act = pd.Series(importance, index=X.columns)\n",
    "feat_importances = feat_importances_act.nlargest(20)\n",
    "feat_importances.plot(kind='barh')"
   ]
  },
  {
   "cell_type": "code",
   "execution_count": null,
   "metadata": {},
   "outputs": [],
   "source": []
  }
 ],
 "metadata": {
  "kernelspec": {
   "display_name": "Python 3",
   "language": "python",
   "name": "python3"
  },
  "language_info": {
   "codemirror_mode": {
    "name": "ipython",
    "version": 3
   },
   "file_extension": ".py",
   "mimetype": "text/x-python",
   "name": "python",
   "nbconvert_exporter": "python",
   "pygments_lexer": "ipython3",
   "version": "3.7.4"
  }
 },
 "nbformat": 4,
 "nbformat_minor": 4
}
